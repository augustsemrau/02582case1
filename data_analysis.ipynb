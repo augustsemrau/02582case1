{
 "cells": [
  {
   "cell_type": "code",
   "execution_count": 6,
   "metadata": {},
   "outputs": [],
   "source": [
    "import numpy as np\n",
    "import matplotlib.pyplot as plt\n",
    "import pandas as pd\n",
    "\n"
   ]
  },
  {
   "cell_type": "markdown",
   "metadata": {},
   "source": [
    "# Data analysis of Case 1\n",
    "### By August Semrau and William Marstrand"
   ]
  },
  {
   "cell_type": "code",
   "execution_count": 34,
   "metadata": {},
   "outputs": [
    {
     "name": "stdout",
     "output_type": "stream",
     "text": [
      "         ScheduleTime Airline  FlightNumber Destination AircraftType  \\\n",
      "0 2021-01-01 06:35:00      IA           874         DEN          73W   \n",
      "1 2021-01-01 10:35:00      JZ           818         YHM          AT7   \n",
      "2 2021-01-01 12:05:00      IA           876         DEN          73W   \n",
      "3 2021-01-01 13:20:00      CN           514         EST          AT7   \n",
      "4 2021-01-01 14:20:00      LJ          3140         DEN          32A   \n",
      "\n",
      "  FlightType Sector  SeatCapacity  LoadFactor  \n",
      "0          J     US           142    0.408451  \n",
      "1          J     CA            74    0.189189  \n",
      "2          J     US           142    0.570423  \n",
      "3          J     US            72    0.333333  \n",
      "4          J     US           186    0.204301  \n"
     ]
    }
   ],
   "source": [
    "### Load data\n",
    "df_full = pd.read_excel('data/dataset.xls')\n",
    "print(df_full.head(5))"
   ]
  },
  {
   "cell_type": "code",
   "execution_count": 35,
   "metadata": {},
   "outputs": [
    {
     "name": "stdout",
     "output_type": "stream",
     "text": [
      "       FlightNumber  SeatCapacity    LoadFactor\n",
      "count  36770.000000  36770.000000  36770.000000\n",
      "mean    1164.618330    155.285504      0.531752\n",
      "std      723.308555     58.851799      0.272192\n",
      "min      500.000000     10.000000      0.000000\n",
      "25%      668.000000     98.000000      0.305556\n",
      "50%      905.000000    180.000000      0.532258\n",
      "75%     1417.000000    189.000000      0.769852\n",
      "max     3779.000000    451.000000      1.475177\n",
      "DO    9808\n",
      "CL    4205\n",
      "LJ    3237\n",
      "CN    2418\n",
      "ZY    1824\n",
      "      ... \n",
      "MR       1\n",
      "RO       1\n",
      "UE       1\n",
      "WY       1\n",
      "ID       1\n",
      "Name: Airline, Length: 95, dtype: int64\n"
     ]
    }
   ],
   "source": [
    "print(df_full.describe())\n",
    "print(df_full.Airline.value_counts())"
   ]
  },
  {
   "cell_type": "code",
   "execution_count": null,
   "metadata": {},
   "outputs": [],
   "source": [
    "### Investigate for missing data\n",
    "missing_values_count = df_full.isnull().sum()\n",
    "print(f'List of null data counts for each column: \\n{missing_values_count}')\n",
    "\n",
    "## As there are so few missing values, a total of five rows, we simply remove these\n",
    "df = df_full.dropna()\n",
    "print(f'\\nData had {df_full.shape[0]} rows pre-nan-removal, now has {df.shape[0]} rows.')"
   ]
  },
  {
   "cell_type": "code",
   "execution_count": 14,
   "metadata": {},
   "outputs": [
    {
     "data": {
      "text/plain": [
       "ScheduleTime    datetime64[ns]\n",
       "Airline                 object\n",
       "FlightNumber             int64\n",
       "Destination             object\n",
       "AircraftType            object\n",
       "FlightType              object\n",
       "Sector                  object\n",
       "SeatCapacity             int64\n",
       "LoadFactor             float64\n",
       "dtype: object"
      ]
     },
     "execution_count": 14,
     "metadata": {},
     "output_type": "execute_result"
    }
   ],
   "source": [
    "## Investigate data for dtypes and stuff\n",
    "df_full.dtypes"
   ]
  },
  {
   "cell_type": "code",
   "execution_count": 31,
   "metadata": {},
   "outputs": [
    {
     "name": "stdout",
     "output_type": "stream",
     "text": [
      "List of null data counts for each column: \n",
      "ScheduleTime    0\n",
      "Airline         1\n",
      "FlightNumber    0\n",
      "Destination     2\n",
      "AircraftType    0\n",
      "FlightType      0\n",
      "Sector          2\n",
      "SeatCapacity    0\n",
      "LoadFactor      0\n",
      "dtype: int64\n",
      "List of missing data counts for each column: \n",
      "ScheduleTime    0\n",
      "Airline         1\n",
      "FlightNumber    0\n",
      "Destination     2\n",
      "AircraftType    0\n",
      "FlightType      0\n",
      "Sector          2\n",
      "SeatCapacity    0\n",
      "LoadFactor      0\n",
      "dtype: int64\n",
      "\n",
      "Data had 36770 rows pre-nan-removal, now has 36768 rows.\n"
     ]
    }
   ],
   "source": []
  },
  {
   "cell_type": "code",
   "execution_count": null,
   "metadata": {},
   "outputs": [],
   "source": []
  },
  {
   "cell_type": "code",
   "execution_count": null,
   "metadata": {},
   "outputs": [],
   "source": []
  },
  {
   "cell_type": "code",
   "execution_count": null,
   "metadata": {},
   "outputs": [],
   "source": []
  },
  {
   "cell_type": "code",
   "execution_count": null,
   "metadata": {},
   "outputs": [],
   "source": []
  },
  {
   "cell_type": "code",
   "execution_count": null,
   "metadata": {},
   "outputs": [],
   "source": []
  }
 ],
 "metadata": {
  "interpreter": {
   "hash": "31f2aee4e71d21fbe5cf8b01ff0e069b9275f58929596ceb00d14d90e3e16cd6"
  },
  "kernelspec": {
   "display_name": "Python 3.8.10 64-bit",
   "language": "python",
   "name": "python3"
  },
  "language_info": {
   "codemirror_mode": {
    "name": "ipython",
    "version": 3
   },
   "file_extension": ".py",
   "mimetype": "text/x-python",
   "name": "python",
   "nbconvert_exporter": "python",
   "pygments_lexer": "ipython3",
   "version": "3.8.10"
  },
  "orig_nbformat": 4
 },
 "nbformat": 4,
 "nbformat_minor": 2
}
