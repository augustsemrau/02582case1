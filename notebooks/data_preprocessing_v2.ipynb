{
 "cells": [
  {
   "cell_type": "code",
   "execution_count": 67,
   "metadata": {},
   "outputs": [],
   "source": [
    "import numpy as np\n",
    "import pandas as pd\n",
    "from tqdm import tqdm\n",
    "import seaborn as sns\n",
    "import matplotlib.pyplot as plt\n",
    "from sklearn.preprocessing import LabelEncoder\n",
    "from sklearn.feature_selection import VarianceThreshold\n",
    "\n",
    "# For calculating feature wise distribution similarity\n",
    "from scipy.spatial.distance import jensenshannon as js_dist\n",
    "\n",
    "# Suppressing warnings\n",
    "import warnings\n",
    "warnings.filterwarnings('ignore')"
   ]
  },
  {
   "cell_type": "markdown",
   "metadata": {},
   "source": [
    "# Global Parameters"
   ]
  },
  {
   "cell_type": "code",
   "execution_count": 68,
   "metadata": {},
   "outputs": [],
   "source": [
    "TARGET = 'LoadFactor'\n",
    "\n",
    "# For loading data\n",
    "REALIZED_DATA_PATH = 'Realized Schedule 20210101-20220228.xlsx'\n",
    "FUTURE_DATA_PATH = 'Future Schedule 20220301-20220331.xlsx'\n",
    "\n",
    "# For saving data\n",
    "LINEAR_REALIZED_PATH = 'data/linear_realized_preprocessed_data.csv'\n",
    "LINEAR_FUTURE_PATH = 'data/linear_future_preprocessed_data.csv'\n",
    "TREE_REALIZED_PATH = 'data/tree_realized_preprocessed_data.csv'\n",
    "TREE_FUTURE_PATH = 'data/tree_future_preprocessed_data.csv'"
   ]
  },
  {
   "cell_type": "markdown",
   "metadata": {},
   "source": [
    "# Data Preprocessing of Case 1\n",
    "### By August Semrau and William Marstrand\n",
    "This notebook consists of data preprocessing, analysis and modelling is found in seperate notebooks"
   ]
  },
  {
   "cell_type": "markdown",
   "metadata": {},
   "source": [
    "## Data"
   ]
  },
  {
   "cell_type": "code",
   "execution_count": 69,
   "metadata": {},
   "outputs": [
    {
     "data": {
      "text/html": [
       "<div>\n",
       "<style scoped>\n",
       "    .dataframe tbody tr th:only-of-type {\n",
       "        vertical-align: middle;\n",
       "    }\n",
       "\n",
       "    .dataframe tbody tr th {\n",
       "        vertical-align: top;\n",
       "    }\n",
       "\n",
       "    .dataframe thead th {\n",
       "        text-align: right;\n",
       "    }\n",
       "</style>\n",
       "<table border=\"1\" class=\"dataframe\">\n",
       "  <thead>\n",
       "    <tr style=\"text-align: right;\">\n",
       "      <th></th>\n",
       "      <th>ScheduleTime</th>\n",
       "      <th>Airline</th>\n",
       "      <th>FlightNumber</th>\n",
       "      <th>Destination</th>\n",
       "      <th>AircraftType</th>\n",
       "      <th>FlightType</th>\n",
       "      <th>Sector</th>\n",
       "      <th>SeatCapacity</th>\n",
       "      <th>LoadFactor</th>\n",
       "    </tr>\n",
       "  </thead>\n",
       "  <tbody>\n",
       "    <tr>\n",
       "      <th>0</th>\n",
       "      <td>2021-01-01 06:35:00</td>\n",
       "      <td>IA</td>\n",
       "      <td>874</td>\n",
       "      <td>DEN</td>\n",
       "      <td>73W</td>\n",
       "      <td>J</td>\n",
       "      <td>US</td>\n",
       "      <td>142</td>\n",
       "      <td>0.408451</td>\n",
       "    </tr>\n",
       "    <tr>\n",
       "      <th>1</th>\n",
       "      <td>2021-01-01 10:35:00</td>\n",
       "      <td>JZ</td>\n",
       "      <td>818</td>\n",
       "      <td>YHM</td>\n",
       "      <td>AT7</td>\n",
       "      <td>J</td>\n",
       "      <td>CA</td>\n",
       "      <td>74</td>\n",
       "      <td>0.189189</td>\n",
       "    </tr>\n",
       "    <tr>\n",
       "      <th>2</th>\n",
       "      <td>2021-01-01 12:05:00</td>\n",
       "      <td>IA</td>\n",
       "      <td>876</td>\n",
       "      <td>DEN</td>\n",
       "      <td>73W</td>\n",
       "      <td>J</td>\n",
       "      <td>US</td>\n",
       "      <td>142</td>\n",
       "      <td>0.570423</td>\n",
       "    </tr>\n",
       "    <tr>\n",
       "      <th>3</th>\n",
       "      <td>2021-01-01 13:20:00</td>\n",
       "      <td>CN</td>\n",
       "      <td>514</td>\n",
       "      <td>EST</td>\n",
       "      <td>AT7</td>\n",
       "      <td>J</td>\n",
       "      <td>US</td>\n",
       "      <td>72</td>\n",
       "      <td>0.333333</td>\n",
       "    </tr>\n",
       "    <tr>\n",
       "      <th>4</th>\n",
       "      <td>2021-01-01 14:20:00</td>\n",
       "      <td>LJ</td>\n",
       "      <td>3140</td>\n",
       "      <td>DEN</td>\n",
       "      <td>32A</td>\n",
       "      <td>J</td>\n",
       "      <td>US</td>\n",
       "      <td>186</td>\n",
       "      <td>0.204301</td>\n",
       "    </tr>\n",
       "    <tr>\n",
       "      <th>...</th>\n",
       "      <td>...</td>\n",
       "      <td>...</td>\n",
       "      <td>...</td>\n",
       "      <td>...</td>\n",
       "      <td>...</td>\n",
       "      <td>...</td>\n",
       "      <td>...</td>\n",
       "      <td>...</td>\n",
       "      <td>...</td>\n",
       "    </tr>\n",
       "    <tr>\n",
       "      <th>39444</th>\n",
       "      <td>2022-02-28 18:45:00</td>\n",
       "      <td>VW</td>\n",
       "      <td>986</td>\n",
       "      <td>YYZ</td>\n",
       "      <td>319</td>\n",
       "      <td>J</td>\n",
       "      <td>CA</td>\n",
       "      <td>144</td>\n",
       "      <td>0.847222</td>\n",
       "    </tr>\n",
       "    <tr>\n",
       "      <th>39445</th>\n",
       "      <td>2022-02-28 19:25:00</td>\n",
       "      <td>LJ</td>\n",
       "      <td>667</td>\n",
       "      <td>YDQ</td>\n",
       "      <td>319</td>\n",
       "      <td>J</td>\n",
       "      <td>CA</td>\n",
       "      <td>156</td>\n",
       "      <td>0.871795</td>\n",
       "    </tr>\n",
       "    <tr>\n",
       "      <th>39446</th>\n",
       "      <td>2022-02-28 20:00:00</td>\n",
       "      <td>VW</td>\n",
       "      <td>3406</td>\n",
       "      <td>MYV</td>\n",
       "      <td>E90</td>\n",
       "      <td>J</td>\n",
       "      <td>US</td>\n",
       "      <td>98</td>\n",
       "      <td>0.857143</td>\n",
       "    </tr>\n",
       "    <tr>\n",
       "      <th>39447</th>\n",
       "      <td>2022-02-28 19:30:00</td>\n",
       "      <td>LJ</td>\n",
       "      <td>663</td>\n",
       "      <td>RUT</td>\n",
       "      <td>32N</td>\n",
       "      <td>J</td>\n",
       "      <td>US</td>\n",
       "      <td>186</td>\n",
       "      <td>0.682796</td>\n",
       "    </tr>\n",
       "    <tr>\n",
       "      <th>39448</th>\n",
       "      <td>2022-02-28 21:25:00</td>\n",
       "      <td>LJ</td>\n",
       "      <td>771</td>\n",
       "      <td>YEG</td>\n",
       "      <td>319</td>\n",
       "      <td>J</td>\n",
       "      <td>CA</td>\n",
       "      <td>156</td>\n",
       "      <td>0.820513</td>\n",
       "    </tr>\n",
       "  </tbody>\n",
       "</table>\n",
       "<p>39449 rows × 9 columns</p>\n",
       "</div>"
      ],
      "text/plain": [
       "             ScheduleTime Airline  FlightNumber Destination AircraftType  \\\n",
       "0     2021-01-01 06:35:00      IA           874         DEN          73W   \n",
       "1     2021-01-01 10:35:00      JZ           818         YHM          AT7   \n",
       "2     2021-01-01 12:05:00      IA           876         DEN          73W   \n",
       "3     2021-01-01 13:20:00      CN           514         EST          AT7   \n",
       "4     2021-01-01 14:20:00      LJ          3140         DEN          32A   \n",
       "...                   ...     ...           ...         ...          ...   \n",
       "39444 2022-02-28 18:45:00      VW           986         YYZ          319   \n",
       "39445 2022-02-28 19:25:00      LJ           667         YDQ          319   \n",
       "39446 2022-02-28 20:00:00      VW          3406         MYV          E90   \n",
       "39447 2022-02-28 19:30:00      LJ           663         RUT          32N   \n",
       "39448 2022-02-28 21:25:00      LJ           771         YEG          319   \n",
       "\n",
       "      FlightType Sector  SeatCapacity  LoadFactor  \n",
       "0              J     US           142    0.408451  \n",
       "1              J     CA            74    0.189189  \n",
       "2              J     US           142    0.570423  \n",
       "3              J     US            72    0.333333  \n",
       "4              J     US           186    0.204301  \n",
       "...          ...    ...           ...         ...  \n",
       "39444          J     CA           144    0.847222  \n",
       "39445          J     CA           156    0.871795  \n",
       "39446          J     US            98    0.857143  \n",
       "39447          J     US           186    0.682796  \n",
       "39448          J     CA           156    0.820513  \n",
       "\n",
       "[39449 rows x 9 columns]"
      ]
     },
     "execution_count": 69,
     "metadata": {},
     "output_type": "execute_result"
    }
   ],
   "source": [
    "### Load data\n",
    "df_realized = pd.read_excel(REALIZED_DATA_PATH)\n",
    "df_realized"
   ]
  },
  {
   "cell_type": "code",
   "execution_count": 70,
   "metadata": {},
   "outputs": [
    {
     "data": {
      "text/html": [
       "<div>\n",
       "<style scoped>\n",
       "    .dataframe tbody tr th:only-of-type {\n",
       "        vertical-align: middle;\n",
       "    }\n",
       "\n",
       "    .dataframe tbody tr th {\n",
       "        vertical-align: top;\n",
       "    }\n",
       "\n",
       "    .dataframe thead th {\n",
       "        text-align: right;\n",
       "    }\n",
       "</style>\n",
       "<table border=\"1\" class=\"dataframe\">\n",
       "  <thead>\n",
       "    <tr style=\"text-align: right;\">\n",
       "      <th></th>\n",
       "      <th>ScheduleTime</th>\n",
       "      <th>Airline</th>\n",
       "      <th>FlightNumber</th>\n",
       "      <th>Destination</th>\n",
       "      <th>AircraftType</th>\n",
       "      <th>FlightType</th>\n",
       "      <th>Sector</th>\n",
       "      <th>SeatCapacity</th>\n",
       "    </tr>\n",
       "  </thead>\n",
       "  <tbody>\n",
       "    <tr>\n",
       "      <th>0</th>\n",
       "      <td>2022-03-01 05:45:00</td>\n",
       "      <td>UK</td>\n",
       "      <td>1315</td>\n",
       "      <td>YXX</td>\n",
       "      <td>319</td>\n",
       "      <td>J</td>\n",
       "      <td>CA</td>\n",
       "      <td>131</td>\n",
       "    </tr>\n",
       "    <tr>\n",
       "      <th>1</th>\n",
       "      <td>2022-03-01 07:15:00</td>\n",
       "      <td>PW</td>\n",
       "      <td>950</td>\n",
       "      <td>YLW</td>\n",
       "      <td>319</td>\n",
       "      <td>J</td>\n",
       "      <td>CA</td>\n",
       "      <td>143</td>\n",
       "    </tr>\n",
       "    <tr>\n",
       "      <th>2</th>\n",
       "      <td>2022-03-01 06:45:00</td>\n",
       "      <td>VW</td>\n",
       "      <td>770</td>\n",
       "      <td>YYZ</td>\n",
       "      <td>320</td>\n",
       "      <td>J</td>\n",
       "      <td>CA</td>\n",
       "      <td>220</td>\n",
       "    </tr>\n",
       "    <tr>\n",
       "      <th>3</th>\n",
       "      <td>2022-03-01 06:40:00</td>\n",
       "      <td>DO</td>\n",
       "      <td>2568</td>\n",
       "      <td>YXU</td>\n",
       "      <td>32N</td>\n",
       "      <td>J</td>\n",
       "      <td>CA</td>\n",
       "      <td>180</td>\n",
       "    </tr>\n",
       "    <tr>\n",
       "      <th>4</th>\n",
       "      <td>2022-03-01 07:30:00</td>\n",
       "      <td>AY</td>\n",
       "      <td>984</td>\n",
       "      <td>YYG</td>\n",
       "      <td>320</td>\n",
       "      <td>J</td>\n",
       "      <td>CA</td>\n",
       "      <td>174</td>\n",
       "    </tr>\n",
       "    <tr>\n",
       "      <th>...</th>\n",
       "      <td>...</td>\n",
       "      <td>...</td>\n",
       "      <td>...</td>\n",
       "      <td>...</td>\n",
       "      <td>...</td>\n",
       "      <td>...</td>\n",
       "      <td>...</td>\n",
       "      <td>...</td>\n",
       "    </tr>\n",
       "    <tr>\n",
       "      <th>4808</th>\n",
       "      <td>2022-03-31 21:05:00</td>\n",
       "      <td>SV</td>\n",
       "      <td>1988</td>\n",
       "      <td>YYJ</td>\n",
       "      <td>73H</td>\n",
       "      <td>J</td>\n",
       "      <td>CA</td>\n",
       "      <td>186</td>\n",
       "    </tr>\n",
       "    <tr>\n",
       "      <th>4809</th>\n",
       "      <td>2022-03-31 20:55:00</td>\n",
       "      <td>MD</td>\n",
       "      <td>1242</td>\n",
       "      <td>YBR</td>\n",
       "      <td>321</td>\n",
       "      <td>J</td>\n",
       "      <td>CA</td>\n",
       "      <td>230</td>\n",
       "    </tr>\n",
       "    <tr>\n",
       "      <th>4810</th>\n",
       "      <td>2022-03-31 21:50:00</td>\n",
       "      <td>LJ</td>\n",
       "      <td>506</td>\n",
       "      <td>YUL</td>\n",
       "      <td>320</td>\n",
       "      <td>J</td>\n",
       "      <td>CA</td>\n",
       "      <td>186</td>\n",
       "    </tr>\n",
       "    <tr>\n",
       "      <th>4811</th>\n",
       "      <td>2022-03-31 20:30:00</td>\n",
       "      <td>LJ</td>\n",
       "      <td>772</td>\n",
       "      <td>YEG</td>\n",
       "      <td>320</td>\n",
       "      <td>J</td>\n",
       "      <td>CA</td>\n",
       "      <td>186</td>\n",
       "    </tr>\n",
       "    <tr>\n",
       "      <th>4812</th>\n",
       "      <td>2022-03-31 21:15:00</td>\n",
       "      <td>VW</td>\n",
       "      <td>988</td>\n",
       "      <td>YYZ</td>\n",
       "      <td>32Q</td>\n",
       "      <td>J</td>\n",
       "      <td>CA</td>\n",
       "      <td>220</td>\n",
       "    </tr>\n",
       "  </tbody>\n",
       "</table>\n",
       "<p>4813 rows × 8 columns</p>\n",
       "</div>"
      ],
      "text/plain": [
       "            ScheduleTime Airline  FlightNumber Destination AircraftType  \\\n",
       "0    2022-03-01 05:45:00      UK          1315         YXX          319   \n",
       "1    2022-03-01 07:15:00      PW           950         YLW          319   \n",
       "2    2022-03-01 06:45:00      VW           770         YYZ          320   \n",
       "3    2022-03-01 06:40:00      DO          2568         YXU          32N   \n",
       "4    2022-03-01 07:30:00      AY           984         YYG          320   \n",
       "...                  ...     ...           ...         ...          ...   \n",
       "4808 2022-03-31 21:05:00      SV          1988         YYJ          73H   \n",
       "4809 2022-03-31 20:55:00      MD          1242         YBR          321   \n",
       "4810 2022-03-31 21:50:00      LJ           506         YUL          320   \n",
       "4811 2022-03-31 20:30:00      LJ           772         YEG          320   \n",
       "4812 2022-03-31 21:15:00      VW           988         YYZ          32Q   \n",
       "\n",
       "     FlightType Sector  SeatCapacity  \n",
       "0             J     CA           131  \n",
       "1             J     CA           143  \n",
       "2             J     CA           220  \n",
       "3             J     CA           180  \n",
       "4             J     CA           174  \n",
       "...         ...    ...           ...  \n",
       "4808          J     CA           186  \n",
       "4809          J     CA           230  \n",
       "4810          J     CA           186  \n",
       "4811          J     CA           186  \n",
       "4812          J     CA           220  \n",
       "\n",
       "[4813 rows x 8 columns]"
      ]
     },
     "execution_count": 70,
     "metadata": {},
     "output_type": "execute_result"
    }
   ],
   "source": [
    "df_future = pd.read_excel(FUTURE_DATA_PATH)\n",
    "df_future"
   ]
  },
  {
   "cell_type": "markdown",
   "metadata": {},
   "source": [
    "First we convert the flight number to an object type, since it is really a categorical variable, but Pandas thinks it's numerical"
   ]
  },
  {
   "cell_type": "code",
   "execution_count": 71,
   "metadata": {},
   "outputs": [
    {
     "name": "stdout",
     "output_type": "stream",
     "text": [
      "\n",
      "dtypes of the datasets columns:\n"
     ]
    },
    {
     "data": {
      "text/plain": [
       "ScheduleTime    datetime64[ns]\n",
       "Airline                 object\n",
       "FlightNumber            object\n",
       "Destination             object\n",
       "AircraftType            object\n",
       "FlightType              object\n",
       "Sector                  object\n",
       "SeatCapacity             int64\n",
       "LoadFactor             float64\n",
       "dtype: object"
      ]
     },
     "execution_count": 71,
     "metadata": {},
     "output_type": "execute_result"
    }
   ],
   "source": [
    "## Convert FlightNumber to object, it is not a numerical value\n",
    "df_realized.FlightNumber = df_realized.FlightNumber.astype(object)\n",
    "df_future.FlightNumber = df_realized.FlightNumber.astype(object)\n",
    "## Investigate data for dtypes and stuff\n",
    "print('\\ndtypes of the datasets columns:')\n",
    "df_realized.dtypes"
   ]
  },
  {
   "cell_type": "markdown",
   "metadata": {},
   "source": [
    "## Data Cleaning\n",
    "We want to first make sure that the data itself is sane before we go any further and start extracting new features from the data.\n",
    "<br>\n",
    "The checks we do are:\n",
    "* Checking for and cleaning null values\n",
    "* Checking for illegal values e.g. zero or negative seat capacity or impossible dates in ScheduleTime\n",
    "* Checking for and possibly removing outliers"
   ]
  },
  {
   "cell_type": "markdown",
   "metadata": {},
   "source": [
    "### Null Values"
   ]
  },
  {
   "cell_type": "code",
   "execution_count": 72,
   "metadata": {},
   "outputs": [],
   "source": [
    "def remove_empty(df):\n",
    "    nan_values_count = df.isnull().sum()\n",
    "    empty_values_count = df.apply(lambda df: df == '', axis=1).sum()\n",
    "    print(f'List of null/empty data counts for each column: \\n{nan_values_count+empty_values_count}')\n",
    "\n",
    "    ## As there are so few missing values, a total of five rows, we simply remove these\n",
    "    df_no_nan = df.dropna()[df.apply(lambda df: df != '')]\n",
    "    # rea_df = rea_df.loc[rea_df['FlightType'].isin(['C', 'J'])]\n",
    "    print(f'\\nData had {df.shape[0]} rows pre-nan-removal, now has {df_no_nan.shape[0]} rows.')\n",
    "\n",
    "    return df_no_nan"
   ]
  },
  {
   "cell_type": "code",
   "execution_count": 73,
   "metadata": {},
   "outputs": [
    {
     "name": "stdout",
     "output_type": "stream",
     "text": [
      "###### Realized Data #######\n",
      "List of null/empty data counts for each column: \n",
      "ScheduleTime    0\n",
      "Airline         0\n",
      "FlightNumber    0\n",
      "Destination     0\n",
      "AircraftType    0\n",
      "FlightType      0\n",
      "Sector          0\n",
      "SeatCapacity    0\n",
      "LoadFactor      0\n",
      "dtype: int64\n",
      "\n",
      "Data had 39449 rows pre-nan-removal, now has 39449 rows.\n",
      "###### Future Data #######\n",
      "List of null/empty data counts for each column: \n",
      "ScheduleTime    0\n",
      "Airline         0\n",
      "FlightNumber    0\n",
      "Destination     0\n",
      "AircraftType    0\n",
      "FlightType      0\n",
      "Sector          0\n",
      "SeatCapacity    0\n",
      "dtype: int64\n",
      "\n",
      "Data had 4813 rows pre-nan-removal, now has 4813 rows.\n"
     ]
    }
   ],
   "source": [
    "print('###### Realized Data #######')\n",
    "no_nan_rea_df = remove_empty(df_realized)\n",
    "print('###### Future Data #######')\n",
    "no_nan_fut_df = remove_empty(df_future)"
   ]
  },
  {
   "cell_type": "markdown",
   "metadata": {},
   "source": [
    "### Illegal or Extremely Unlikly Values"
   ]
  },
  {
   "cell_type": "code",
   "execution_count": 74,
   "metadata": {},
   "outputs": [],
   "source": [
    "def is_before_2021_or_in_the_future(df):\n",
    "    min_st = pd.Timestamp(2021, 1, 1)\n",
    "    max_st = pd.Timestamp(2022, 4, 1)\n",
    "    return df['ScheduleTime'].apply(lambda st: st < min_st or st >= max_st)"
   ]
  },
  {
   "cell_type": "code",
   "execution_count": 75,
   "metadata": {},
   "outputs": [
    {
     "data": {
      "text/html": [
       "<div>\n",
       "<style scoped>\n",
       "    .dataframe tbody tr th:only-of-type {\n",
       "        vertical-align: middle;\n",
       "    }\n",
       "\n",
       "    .dataframe tbody tr th {\n",
       "        vertical-align: top;\n",
       "    }\n",
       "\n",
       "    .dataframe thead th {\n",
       "        text-align: right;\n",
       "    }\n",
       "</style>\n",
       "<table border=\"1\" class=\"dataframe\">\n",
       "  <thead>\n",
       "    <tr style=\"text-align: right;\">\n",
       "      <th></th>\n",
       "      <th>ScheduleTime</th>\n",
       "      <th>Airline</th>\n",
       "      <th>FlightNumber</th>\n",
       "      <th>Destination</th>\n",
       "      <th>AircraftType</th>\n",
       "      <th>FlightType</th>\n",
       "      <th>Sector</th>\n",
       "      <th>SeatCapacity</th>\n",
       "      <th>LoadFactor</th>\n",
       "    </tr>\n",
       "  </thead>\n",
       "  <tbody>\n",
       "  </tbody>\n",
       "</table>\n",
       "</div>"
      ],
      "text/plain": [
       "Empty DataFrame\n",
       "Columns: [ScheduleTime, Airline, FlightNumber, Destination, AircraftType, FlightType, Sector, SeatCapacity, LoadFactor]\n",
       "Index: []"
      ]
     },
     "execution_count": 75,
     "metadata": {},
     "output_type": "execute_result"
    }
   ],
   "source": [
    "# Check if any ScheduleTime in Realized dataset is before 2021 or into the future\n",
    "df_realized[is_before_2021_or_in_the_future(df_realized)]"
   ]
  },
  {
   "cell_type": "code",
   "execution_count": 76,
   "metadata": {},
   "outputs": [
    {
     "data": {
      "text/html": [
       "<div>\n",
       "<style scoped>\n",
       "    .dataframe tbody tr th:only-of-type {\n",
       "        vertical-align: middle;\n",
       "    }\n",
       "\n",
       "    .dataframe tbody tr th {\n",
       "        vertical-align: top;\n",
       "    }\n",
       "\n",
       "    .dataframe thead th {\n",
       "        text-align: right;\n",
       "    }\n",
       "</style>\n",
       "<table border=\"1\" class=\"dataframe\">\n",
       "  <thead>\n",
       "    <tr style=\"text-align: right;\">\n",
       "      <th></th>\n",
       "      <th>ScheduleTime</th>\n",
       "      <th>Airline</th>\n",
       "      <th>FlightNumber</th>\n",
       "      <th>Destination</th>\n",
       "      <th>AircraftType</th>\n",
       "      <th>FlightType</th>\n",
       "      <th>Sector</th>\n",
       "      <th>SeatCapacity</th>\n",
       "    </tr>\n",
       "  </thead>\n",
       "  <tbody>\n",
       "  </tbody>\n",
       "</table>\n",
       "</div>"
      ],
      "text/plain": [
       "Empty DataFrame\n",
       "Columns: [ScheduleTime, Airline, FlightNumber, Destination, AircraftType, FlightType, Sector, SeatCapacity]\n",
       "Index: []"
      ]
     },
     "execution_count": 76,
     "metadata": {},
     "output_type": "execute_result"
    }
   ],
   "source": [
    "# Check if any ScheduleTime in Future dataset is before 2021 or into the future\n",
    "df_future[is_before_2021_or_in_the_future(df_future)]"
   ]
  },
  {
   "cell_type": "code",
   "execution_count": 77,
   "metadata": {},
   "outputs": [],
   "source": [
    "def is_negative_or_zero(df):\n",
    "    return df['SeatCapacity'] <= 0"
   ]
  },
  {
   "cell_type": "code",
   "execution_count": 78,
   "metadata": {},
   "outputs": [
    {
     "data": {
      "text/html": [
       "<div>\n",
       "<style scoped>\n",
       "    .dataframe tbody tr th:only-of-type {\n",
       "        vertical-align: middle;\n",
       "    }\n",
       "\n",
       "    .dataframe tbody tr th {\n",
       "        vertical-align: top;\n",
       "    }\n",
       "\n",
       "    .dataframe thead th {\n",
       "        text-align: right;\n",
       "    }\n",
       "</style>\n",
       "<table border=\"1\" class=\"dataframe\">\n",
       "  <thead>\n",
       "    <tr style=\"text-align: right;\">\n",
       "      <th></th>\n",
       "      <th>ScheduleTime</th>\n",
       "      <th>Airline</th>\n",
       "      <th>FlightNumber</th>\n",
       "      <th>Destination</th>\n",
       "      <th>AircraftType</th>\n",
       "      <th>FlightType</th>\n",
       "      <th>Sector</th>\n",
       "      <th>SeatCapacity</th>\n",
       "      <th>LoadFactor</th>\n",
       "    </tr>\n",
       "  </thead>\n",
       "  <tbody>\n",
       "  </tbody>\n",
       "</table>\n",
       "</div>"
      ],
      "text/plain": [
       "Empty DataFrame\n",
       "Columns: [ScheduleTime, Airline, FlightNumber, Destination, AircraftType, FlightType, Sector, SeatCapacity, LoadFactor]\n",
       "Index: []"
      ]
     },
     "execution_count": 78,
     "metadata": {},
     "output_type": "execute_result"
    }
   ],
   "source": [
    "# Check if Realized SeatCapacity is zero or negative\n",
    "df_realized[is_negative_or_zero(df_realized)]"
   ]
  },
  {
   "cell_type": "code",
   "execution_count": 79,
   "metadata": {},
   "outputs": [
    {
     "data": {
      "text/html": [
       "<div>\n",
       "<style scoped>\n",
       "    .dataframe tbody tr th:only-of-type {\n",
       "        vertical-align: middle;\n",
       "    }\n",
       "\n",
       "    .dataframe tbody tr th {\n",
       "        vertical-align: top;\n",
       "    }\n",
       "\n",
       "    .dataframe thead th {\n",
       "        text-align: right;\n",
       "    }\n",
       "</style>\n",
       "<table border=\"1\" class=\"dataframe\">\n",
       "  <thead>\n",
       "    <tr style=\"text-align: right;\">\n",
       "      <th></th>\n",
       "      <th>ScheduleTime</th>\n",
       "      <th>Airline</th>\n",
       "      <th>FlightNumber</th>\n",
       "      <th>Destination</th>\n",
       "      <th>AircraftType</th>\n",
       "      <th>FlightType</th>\n",
       "      <th>Sector</th>\n",
       "      <th>SeatCapacity</th>\n",
       "    </tr>\n",
       "  </thead>\n",
       "  <tbody>\n",
       "  </tbody>\n",
       "</table>\n",
       "</div>"
      ],
      "text/plain": [
       "Empty DataFrame\n",
       "Columns: [ScheduleTime, Airline, FlightNumber, Destination, AircraftType, FlightType, Sector, SeatCapacity]\n",
       "Index: []"
      ]
     },
     "execution_count": 79,
     "metadata": {},
     "output_type": "execute_result"
    }
   ],
   "source": [
    "# Check if Future SeatCapacity is zero or negative\n",
    "df_future[is_negative_or_zero(df_future)]"
   ]
  },
  {
   "cell_type": "code",
   "execution_count": 80,
   "metadata": {},
   "outputs": [],
   "source": [
    "def mask_too_high_passenger_count(df, limit=10):\n",
    "    passenger_count = (df['LoadFactor']*df['SeatCapacity']).astype(int)\n",
    "    mask = (df['LoadFactor'] > 1)\n",
    "    return mask, passenger_count[mask]"
   ]
  },
  {
   "cell_type": "code",
   "execution_count": 81,
   "metadata": {},
   "outputs": [
    {
     "data": {
      "text/html": [
       "<div>\n",
       "<style scoped>\n",
       "    .dataframe tbody tr th:only-of-type {\n",
       "        vertical-align: middle;\n",
       "    }\n",
       "\n",
       "    .dataframe tbody tr th {\n",
       "        vertical-align: top;\n",
       "    }\n",
       "\n",
       "    .dataframe thead th {\n",
       "        text-align: right;\n",
       "    }\n",
       "</style>\n",
       "<table border=\"1\" class=\"dataframe\">\n",
       "  <thead>\n",
       "    <tr style=\"text-align: right;\">\n",
       "      <th></th>\n",
       "      <th>ScheduleTime</th>\n",
       "      <th>Airline</th>\n",
       "      <th>FlightNumber</th>\n",
       "      <th>Destination</th>\n",
       "      <th>AircraftType</th>\n",
       "      <th>FlightType</th>\n",
       "      <th>Sector</th>\n",
       "      <th>SeatCapacity</th>\n",
       "      <th>LoadFactor</th>\n",
       "      <th>PassengerCount</th>\n",
       "    </tr>\n",
       "  </thead>\n",
       "  <tbody>\n",
       "    <tr>\n",
       "      <th>764</th>\n",
       "      <td>2021-01-28 16:45:00</td>\n",
       "      <td>CN</td>\n",
       "      <td>515</td>\n",
       "      <td>EST</td>\n",
       "      <td>AT7</td>\n",
       "      <td>J</td>\n",
       "      <td>US</td>\n",
       "      <td>72</td>\n",
       "      <td>1.013889</td>\n",
       "      <td>72</td>\n",
       "    </tr>\n",
       "    <tr>\n",
       "      <th>1056</th>\n",
       "      <td>2021-02-13 11:35:00</td>\n",
       "      <td>CN</td>\n",
       "      <td>512</td>\n",
       "      <td>EST</td>\n",
       "      <td>AT7</td>\n",
       "      <td>J</td>\n",
       "      <td>US</td>\n",
       "      <td>72</td>\n",
       "      <td>1.013889</td>\n",
       "      <td>72</td>\n",
       "    </tr>\n",
       "    <tr>\n",
       "      <th>1096</th>\n",
       "      <td>2021-02-15 11:00:00</td>\n",
       "      <td>CN</td>\n",
       "      <td>513</td>\n",
       "      <td>EST</td>\n",
       "      <td>AT4</td>\n",
       "      <td>J</td>\n",
       "      <td>US</td>\n",
       "      <td>46</td>\n",
       "      <td>1.043478</td>\n",
       "      <td>47</td>\n",
       "    </tr>\n",
       "    <tr>\n",
       "      <th>1443</th>\n",
       "      <td>2021-03-05 16:40:00</td>\n",
       "      <td>CN</td>\n",
       "      <td>556</td>\n",
       "      <td>CKE</td>\n",
       "      <td>AT4</td>\n",
       "      <td>J</td>\n",
       "      <td>US</td>\n",
       "      <td>46</td>\n",
       "      <td>1.021739</td>\n",
       "      <td>46</td>\n",
       "    </tr>\n",
       "    <tr>\n",
       "      <th>1488</th>\n",
       "      <td>2021-03-07 18:35:00</td>\n",
       "      <td>OF</td>\n",
       "      <td>575</td>\n",
       "      <td>OTH</td>\n",
       "      <td>32Q</td>\n",
       "      <td>J</td>\n",
       "      <td>US</td>\n",
       "      <td>160</td>\n",
       "      <td>1.006250</td>\n",
       "      <td>161</td>\n",
       "    </tr>\n",
       "    <tr>\n",
       "      <th>...</th>\n",
       "      <td>...</td>\n",
       "      <td>...</td>\n",
       "      <td>...</td>\n",
       "      <td>...</td>\n",
       "      <td>...</td>\n",
       "      <td>...</td>\n",
       "      <td>...</td>\n",
       "      <td>...</td>\n",
       "      <td>...</td>\n",
       "      <td>...</td>\n",
       "    </tr>\n",
       "    <tr>\n",
       "      <th>38402</th>\n",
       "      <td>2022-02-26 18:30:00</td>\n",
       "      <td>FZ</td>\n",
       "      <td>609</td>\n",
       "      <td>AMN</td>\n",
       "      <td>73H</td>\n",
       "      <td>C</td>\n",
       "      <td>US</td>\n",
       "      <td>186</td>\n",
       "      <td>1.021505</td>\n",
       "      <td>189</td>\n",
       "    </tr>\n",
       "    <tr>\n",
       "      <th>38784</th>\n",
       "      <td>2022-02-13 09:55:00</td>\n",
       "      <td>ZD</td>\n",
       "      <td>742</td>\n",
       "      <td>YAD</td>\n",
       "      <td>73H</td>\n",
       "      <td>J</td>\n",
       "      <td>CA</td>\n",
       "      <td>189</td>\n",
       "      <td>1.021164</td>\n",
       "      <td>192</td>\n",
       "    </tr>\n",
       "    <tr>\n",
       "      <th>38799</th>\n",
       "      <td>2022-02-13 15:00:00</td>\n",
       "      <td>LJ</td>\n",
       "      <td>769</td>\n",
       "      <td>YEG</td>\n",
       "      <td>320</td>\n",
       "      <td>J</td>\n",
       "      <td>CA</td>\n",
       "      <td>186</td>\n",
       "      <td>1.016129</td>\n",
       "      <td>188</td>\n",
       "    </tr>\n",
       "    <tr>\n",
       "      <th>39311</th>\n",
       "      <td>2022-02-26 08:55:00</td>\n",
       "      <td>ZD</td>\n",
       "      <td>742</td>\n",
       "      <td>YAD</td>\n",
       "      <td>73H</td>\n",
       "      <td>J</td>\n",
       "      <td>CA</td>\n",
       "      <td>189</td>\n",
       "      <td>1.015873</td>\n",
       "      <td>191</td>\n",
       "    </tr>\n",
       "    <tr>\n",
       "      <th>39361</th>\n",
       "      <td>2022-02-27 12:15:00</td>\n",
       "      <td>CL</td>\n",
       "      <td>796</td>\n",
       "      <td>ESP</td>\n",
       "      <td>73H</td>\n",
       "      <td>J</td>\n",
       "      <td>US</td>\n",
       "      <td>189</td>\n",
       "      <td>1.005291</td>\n",
       "      <td>189</td>\n",
       "    </tr>\n",
       "  </tbody>\n",
       "</table>\n",
       "<p>388 rows × 10 columns</p>\n",
       "</div>"
      ],
      "text/plain": [
       "             ScheduleTime Airline FlightNumber Destination AircraftType  \\\n",
       "764   2021-01-28 16:45:00      CN          515         EST          AT7   \n",
       "1056  2021-02-13 11:35:00      CN          512         EST          AT7   \n",
       "1096  2021-02-15 11:00:00      CN          513         EST          AT4   \n",
       "1443  2021-03-05 16:40:00      CN          556         CKE          AT4   \n",
       "1488  2021-03-07 18:35:00      OF          575         OTH          32Q   \n",
       "...                   ...     ...          ...         ...          ...   \n",
       "38402 2022-02-26 18:30:00      FZ          609         AMN          73H   \n",
       "38784 2022-02-13 09:55:00      ZD          742         YAD          73H   \n",
       "38799 2022-02-13 15:00:00      LJ          769         YEG          320   \n",
       "39311 2022-02-26 08:55:00      ZD          742         YAD          73H   \n",
       "39361 2022-02-27 12:15:00      CL          796         ESP          73H   \n",
       "\n",
       "      FlightType Sector  SeatCapacity  LoadFactor  PassengerCount  \n",
       "764            J     US            72    1.013889              72  \n",
       "1056           J     US            72    1.013889              72  \n",
       "1096           J     US            46    1.043478              47  \n",
       "1443           J     US            46    1.021739              46  \n",
       "1488           J     US           160    1.006250             161  \n",
       "...          ...    ...           ...         ...             ...  \n",
       "38402          C     US           186    1.021505             189  \n",
       "38784          J     CA           189    1.021164             192  \n",
       "38799          J     CA           186    1.016129             188  \n",
       "39311          J     CA           189    1.015873             191  \n",
       "39361          J     US           189    1.005291             189  \n",
       "\n",
       "[388 rows x 10 columns]"
      ]
     },
     "execution_count": 81,
     "metadata": {},
     "output_type": "execute_result"
    }
   ],
   "source": [
    "# Specifically for Realized Data\n",
    "# Check if LoadFactor and SeatCapacity gives extremely low passenger counts\n",
    "mask, passenger_count = mask_too_high_passenger_count(df_realized)\n",
    "unlikly_passenger_counts = df_realized[mask]\n",
    "unlikly_passenger_counts['PassengerCount'] = passenger_count\n",
    "unlikly_passenger_counts"
   ]
  },
  {
   "cell_type": "markdown",
   "metadata": {},
   "source": [
    "So no negative load factors.\n",
    "And we have some load factors which are greater than 1 indicating that the flight has more passengers than seats. While it might be tempting to remove these records on the basis of illegal data, we are keeping them due to the fact, that we understand the description of the LoadFactor variable to mean the share of occupied seats meaning that a load factor greater than 1 just indicates an overbooking for the flight. Overbooking is a generally used practice as described in this [article](https://www.aeroclass.org/why-are-airlines-allowed-to-overbook/) and as such we accept the data.\n",
    "<br>\n",
    "Also, som flights are empty or close to empty, but as explained in this [article](https://eu.usatoday.com/story/travel/columnist/cox/2019/08/14/ask-captain-why-fly-plane-just-one-passenger/2006241001/) this is also a perfectly valid scenario."
   ]
  },
  {
   "cell_type": "markdown",
   "metadata": {},
   "source": [
    "## Feature Engineering\n",
    "Based on the different data types, we already know we want to do a couple of things to each column/feature, and these are described below:\n",
    "<br><br>\n",
    "For **ScheduleTime**, we want to do two things; Firstly, we want to convert the datetime64[ns] format to a more simple datetime format. We further want to create new object columns; one which encodes which year it is, one for the month of the year the flight is, which week, weekday, hour of day and minute of hour. These will also be encoded in the next step.\n",
    "These new features extrated from the timestamp will be categorical features.\n",
    "<br><br>\n",
    "For **Airline**, **Flightnumber** (infact categorical), **Destination**, **Aircrafttype**, **Flighttype** and **Sector**, columns which are encoded as objects (they are categorical), we need to make an alternative encoding.\n",
    "<br><br>\n",
    "SeatCapacity is made categorical, though it differently from the rest, is in fact ordinal."
   ]
  },
  {
   "cell_type": "markdown",
   "metadata": {},
   "source": [
    "### Preprocess **ScheduleTime**\n",
    "The `ScheduleTime` feature is a `datetime64` dtype. To be able to use it in a meaningful way for the modelling, we extract certain time features from it e.g. `Year`, `Month`, `Day`, and `WeekNumber`."
   ]
  },
  {
   "cell_type": "code",
   "execution_count": 82,
   "metadata": {},
   "outputs": [],
   "source": [
    "def extract_scheduletime_features(df):\n",
    "    df = df.copy()\n",
    "    ### Preprosses time for getting year, month, week number, weekday, hour of day and minute of hour\n",
    "    df['Weekday'] = df['ScheduleTime'].dt.dayofweek\n",
    "    df['HourOfDay'] = df['ScheduleTime'].dt.hour\n",
    "    df['MinuteOfHour'] = df['ScheduleTime'].dt.minute\n",
    "\n",
    "    df.Weekday = df.Weekday.astype(object)\n",
    "    df.HourOfDay = df.HourOfDay.astype(object)\n",
    "    df.MinuteOfHour = df.MinuteOfHour.astype(object)\n",
    "\n",
    "    df = df.drop('ScheduleTime', axis=1)\n",
    "\n",
    "    return df"
   ]
  },
  {
   "cell_type": "code",
   "execution_count": 83,
   "metadata": {},
   "outputs": [],
   "source": [
    "rea_X_schedule_time = extract_scheduletime_features(no_nan_rea_df)\n",
    "fut_X_schedule_time = extract_scheduletime_features(no_nan_fut_df)"
   ]
  },
  {
   "cell_type": "code",
   "execution_count": 84,
   "metadata": {},
   "outputs": [
    {
     "name": "stdout",
     "output_type": "stream",
     "text": [
      "Shape of rea_X_schedule_time: (39449, 11)\n",
      "Shape of fut_X_schedule_time: (4813, 10)\n"
     ]
    }
   ],
   "source": [
    "print(f'Shape of rea_X_schedule_time: {rea_X_schedule_time.shape}\\nShape of fut_X_schedule_time: {fut_X_schedule_time.shape}')"
   ]
  },
  {
   "cell_type": "markdown",
   "metadata": {},
   "source": [
    "### Preprocess categorical features\n",
    "The categorical features are not numerical types, but we need them to be for the model to handle them.\n",
    "<br>\n",
    "Therefore we perform feature encoding on them. The type of encoding which is more suitable depends on the different types of models we train.\n",
    "<br>\n",
    "Therefore we create two types of datasets. One encoded with `one-hot-encoding` for linear regression and one encoded with `label-encoding` for tree based models."
   ]
  },
  {
   "cell_type": "code",
   "execution_count": 85,
   "metadata": {},
   "outputs": [
    {
     "data": {
      "text/html": [
       "<div>\n",
       "<style scoped>\n",
       "    .dataframe tbody tr th:only-of-type {\n",
       "        vertical-align: middle;\n",
       "    }\n",
       "\n",
       "    .dataframe tbody tr th {\n",
       "        vertical-align: top;\n",
       "    }\n",
       "\n",
       "    .dataframe thead th {\n",
       "        text-align: right;\n",
       "    }\n",
       "</style>\n",
       "<table border=\"1\" class=\"dataframe\">\n",
       "  <thead>\n",
       "    <tr style=\"text-align: right;\">\n",
       "      <th></th>\n",
       "      <th>Airline</th>\n",
       "      <th>FlightNumber</th>\n",
       "      <th>Destination</th>\n",
       "      <th>AircraftType</th>\n",
       "      <th>FlightType</th>\n",
       "      <th>Sector</th>\n",
       "      <th>Weekday</th>\n",
       "      <th>HourOfDay</th>\n",
       "      <th>MinuteOfHour</th>\n",
       "    </tr>\n",
       "  </thead>\n",
       "  <tbody>\n",
       "    <tr>\n",
       "      <th>count</th>\n",
       "      <td>39449</td>\n",
       "      <td>39449</td>\n",
       "      <td>39449</td>\n",
       "      <td>39449</td>\n",
       "      <td>39449</td>\n",
       "      <td>39449</td>\n",
       "      <td>39449</td>\n",
       "      <td>39449</td>\n",
       "      <td>39449</td>\n",
       "    </tr>\n",
       "    <tr>\n",
       "      <th>unique</th>\n",
       "      <td>105</td>\n",
       "      <td>825</td>\n",
       "      <td>230</td>\n",
       "      <td>58</td>\n",
       "      <td>3</td>\n",
       "      <td>12</td>\n",
       "      <td>7</td>\n",
       "      <td>23</td>\n",
       "      <td>13</td>\n",
       "    </tr>\n",
       "    <tr>\n",
       "      <th>top</th>\n",
       "      <td>DO</td>\n",
       "      <td>771</td>\n",
       "      <td>CKE</td>\n",
       "      <td>73H</td>\n",
       "      <td>J</td>\n",
       "      <td>CA</td>\n",
       "      <td>6</td>\n",
       "      <td>8</td>\n",
       "      <td>40</td>\n",
       "    </tr>\n",
       "    <tr>\n",
       "      <th>freq</th>\n",
       "      <td>10483</td>\n",
       "      <td>366</td>\n",
       "      <td>2706</td>\n",
       "      <td>8970</td>\n",
       "      <td>38229</td>\n",
       "      <td>19311</td>\n",
       "      <td>6495</td>\n",
       "      <td>3004</td>\n",
       "      <td>3368</td>\n",
       "    </tr>\n",
       "  </tbody>\n",
       "</table>\n",
       "</div>"
      ],
      "text/plain": [
       "       Airline  FlightNumber Destination AircraftType FlightType Sector  \\\n",
       "count    39449         39449       39449        39449      39449  39449   \n",
       "unique     105           825         230           58          3     12   \n",
       "top         DO           771         CKE          73H          J     CA   \n",
       "freq     10483           366        2706         8970      38229  19311   \n",
       "\n",
       "        Weekday  HourOfDay  MinuteOfHour  \n",
       "count     39449      39449         39449  \n",
       "unique        7         23            13  \n",
       "top           6          8            40  \n",
       "freq       6495       3004          3368  "
      ]
     },
     "execution_count": 85,
     "metadata": {},
     "output_type": "execute_result"
    }
   ],
   "source": [
    "### We need to find out how many categorical values exist for each feature\n",
    "rea_X_schedule_time.describe(include = ['object'])"
   ]
  },
  {
   "cell_type": "code",
   "execution_count": 86,
   "metadata": {},
   "outputs": [
    {
     "data": {
      "text/html": [
       "<div>\n",
       "<style scoped>\n",
       "    .dataframe tbody tr th:only-of-type {\n",
       "        vertical-align: middle;\n",
       "    }\n",
       "\n",
       "    .dataframe tbody tr th {\n",
       "        vertical-align: top;\n",
       "    }\n",
       "\n",
       "    .dataframe thead th {\n",
       "        text-align: right;\n",
       "    }\n",
       "</style>\n",
       "<table border=\"1\" class=\"dataframe\">\n",
       "  <thead>\n",
       "    <tr style=\"text-align: right;\">\n",
       "      <th></th>\n",
       "      <th>Airline</th>\n",
       "      <th>FlightNumber</th>\n",
       "      <th>Destination</th>\n",
       "      <th>AircraftType</th>\n",
       "      <th>FlightType</th>\n",
       "      <th>Sector</th>\n",
       "      <th>Weekday</th>\n",
       "      <th>HourOfDay</th>\n",
       "      <th>MinuteOfHour</th>\n",
       "    </tr>\n",
       "  </thead>\n",
       "  <tbody>\n",
       "    <tr>\n",
       "      <th>count</th>\n",
       "      <td>4813</td>\n",
       "      <td>4813</td>\n",
       "      <td>4813</td>\n",
       "      <td>4813</td>\n",
       "      <td>4813</td>\n",
       "      <td>4813</td>\n",
       "      <td>4813</td>\n",
       "      <td>4813</td>\n",
       "      <td>4813</td>\n",
       "    </tr>\n",
       "    <tr>\n",
       "      <th>unique</th>\n",
       "      <td>71</td>\n",
       "      <td>260</td>\n",
       "      <td>172</td>\n",
       "      <td>38</td>\n",
       "      <td>4</td>\n",
       "      <td>10</td>\n",
       "      <td>7</td>\n",
       "      <td>24</td>\n",
       "      <td>12</td>\n",
       "    </tr>\n",
       "    <tr>\n",
       "      <th>top</th>\n",
       "      <td>DO</td>\n",
       "      <td>556</td>\n",
       "      <td>DEN</td>\n",
       "      <td>73H</td>\n",
       "      <td>J</td>\n",
       "      <td>CA</td>\n",
       "      <td>3</td>\n",
       "      <td>8</td>\n",
       "      <td>40</td>\n",
       "    </tr>\n",
       "    <tr>\n",
       "      <th>freq</th>\n",
       "      <td>1256</td>\n",
       "      <td>124</td>\n",
       "      <td>255</td>\n",
       "      <td>1169</td>\n",
       "      <td>4693</td>\n",
       "      <td>2434</td>\n",
       "      <td>791</td>\n",
       "      <td>414</td>\n",
       "      <td>435</td>\n",
       "    </tr>\n",
       "  </tbody>\n",
       "</table>\n",
       "</div>"
      ],
      "text/plain": [
       "       Airline  FlightNumber Destination AircraftType FlightType Sector  \\\n",
       "count     4813          4813        4813         4813       4813   4813   \n",
       "unique      71           260         172           38          4     10   \n",
       "top         DO           556         DEN          73H          J     CA   \n",
       "freq      1256           124         255         1169       4693   2434   \n",
       "\n",
       "        Weekday  HourOfDay  MinuteOfHour  \n",
       "count      4813       4813          4813  \n",
       "unique        7         24            12  \n",
       "top           3          8            40  \n",
       "freq        791        414           435  "
      ]
     },
     "execution_count": 86,
     "metadata": {},
     "output_type": "execute_result"
    }
   ],
   "source": [
    "fut_X_schedule_time.describe(include = ['object'])"
   ]
  },
  {
   "cell_type": "markdown",
   "metadata": {},
   "source": [
    "### Encoding"
   ]
  },
  {
   "cell_type": "code",
   "execution_count": 87,
   "metadata": {},
   "outputs": [],
   "source": [
    "def label_encode(df, cols):\n",
    "    le = LabelEncoder()\n",
    "    df = df.copy()\n",
    "\n",
    "    for c in tqdm(cols):\n",
    "        df[c] = le.fit_transform(df[c].apply(str))\n",
    "    \n",
    "    return df"
   ]
  },
  {
   "cell_type": "code",
   "execution_count": 88,
   "metadata": {},
   "outputs": [
    {
     "name": "stderr",
     "output_type": "stream",
     "text": [
      "100%|██████████| 6/6 [00:00<00:00, 81.75it/s]\n"
     ]
    }
   ],
   "source": [
    "linear_nominal_cols = ['AircraftType', 'FlightType', 'Sector', 'Weekday', 'HourOfDay',\n",
    "                'MinuteOfHour','Airline', 'FlightNumber', 'Destination'] \n",
    "linear_rea_X = pd.get_dummies(rea_X_schedule_time, columns=linear_nominal_cols, drop_first=True)\n",
    "linear_fut_X = pd.get_dummies(fut_X_schedule_time, columns=linear_nominal_cols, drop_first=True)\n",
    "\n",
    "# Need to combine datasets during the labelling, so similar label id means the same\n",
    "tree_nominal_cols = ['AircraftType', 'FlightType', 'Sector', 'Airline', 'FlightNumber', 'Destination'] \n",
    "rea_y = rea_X_schedule_time[TARGET]\n",
    "combined_X = pd.concat([rea_X_schedule_time.drop(TARGET, axis=1), fut_X_schedule_time], axis=0)\n",
    "labeled_combined_X = label_encode(combined_X, tree_nominal_cols)\n",
    "tree_rea_X = labeled_combined_X.iloc[:rea_X_schedule_time.shape[0],:]\n",
    "tree_rea_X[TARGET] = rea_y\n",
    "tree_fut_X = labeled_combined_X.iloc[rea_X_schedule_time.shape[0]:,:]"
   ]
  },
  {
   "cell_type": "code",
   "execution_count": 89,
   "metadata": {},
   "outputs": [
    {
     "name": "stdout",
     "output_type": "stream",
     "text": [
      "Shape of linear_fut_X: (4813, 590)\n",
      "Shape of linear_rea_X: (39449, 1269)\n",
      "Shape of tree_fut_X: (4813, 10)\n",
      "Shape of tree_rea_X: (39449, 11)\n"
     ]
    }
   ],
   "source": [
    "print(f'Shape of linear_fut_X: {linear_fut_X.shape}\\nShape of linear_rea_X: {linear_rea_X.shape}')\n",
    "print(f'Shape of tree_fut_X: {tree_fut_X.shape}\\nShape of tree_rea_X: {tree_rea_X.shape}')"
   ]
  },
  {
   "cell_type": "markdown",
   "metadata": {},
   "source": [
    "Now we remove any columns that holds identical values for all rows i.e. has no information to differentiate data points"
   ]
  },
  {
   "cell_type": "code",
   "execution_count": 90,
   "metadata": {},
   "outputs": [],
   "source": [
    "def remove_zero_variance_cols(df):\n",
    "    selector = VarianceThreshold(0)\n",
    "    new_df = pd.DataFrame(selector.fit_transform(df), columns=selector.get_feature_names_out())\n",
    "    print(f'New Shape: {new_df.shape}')"
   ]
  },
  {
   "cell_type": "code",
   "execution_count": 91,
   "metadata": {},
   "outputs": [
    {
     "name": "stdout",
     "output_type": "stream",
     "text": [
      "######## linear_rea_X ##########\n",
      "New Shape: (39449, 1269)\n",
      "######## linear_fut_X ##########\n",
      "New Shape: (4813, 590)\n",
      "######## tree_rea_X ##########\n",
      "New Shape: (39449, 11)\n",
      "######## tree_fut_X ##########\n",
      "New Shape: (4813, 10)\n"
     ]
    }
   ],
   "source": [
    "print('######## linear_rea_X ##########')\n",
    "selected_linear_rea_X = remove_zero_variance_cols(linear_rea_X)\n",
    "print('######## linear_fut_X ##########')\n",
    "selected_linear_fut_X = remove_zero_variance_cols(linear_fut_X)\n",
    "print('######## tree_rea_X ##########')\n",
    "selected_tree_rea_X = remove_zero_variance_cols(tree_rea_X)\n",
    "print('######## tree_fut_X ##########')\n",
    "selected_tree_fut_X = remove_zero_variance_cols(tree_fut_X)"
   ]
  },
  {
   "cell_type": "markdown",
   "metadata": {},
   "source": [
    "We now only choose the columns that are both in the future and realized data"
   ]
  },
  {
   "cell_type": "code",
   "execution_count": 92,
   "metadata": {},
   "outputs": [],
   "source": [
    "def choose_intersection(rea_df, fut_df, target):\n",
    "    rea_fut_cols = list(set(rea_df.columns).intersection(set(fut_df.columns)))\n",
    "    print(f'Number of shared cols: {len(rea_fut_cols)}')\n",
    "\n",
    "    chosen_fut = fut_df[rea_fut_cols]\n",
    "    rea_fut_cols.append(target)\n",
    "    chosen_rea = rea_df[rea_fut_cols]\n",
    "    return chosen_rea, chosen_fut"
   ]
  },
  {
   "cell_type": "code",
   "execution_count": 93,
   "metadata": {},
   "outputs": [
    {
     "name": "stdout",
     "output_type": "stream",
     "text": [
      "######### linear_rea_X #########\n",
      "Number of shared cols: 582\n",
      "######### tree_rea_X #########\n",
      "Number of shared cols: 10\n"
     ]
    }
   ],
   "source": [
    "print('######### linear_rea_X #########')\n",
    "chosen_linear_rea_X, chosen_linear_fut_X = choose_intersection(linear_rea_X, linear_fut_X, TARGET)\n",
    "print('######### tree_rea_X #########')\n",
    "chosen_tree_rea_X, chosen_tree_fut_X = choose_intersection(tree_rea_X, tree_fut_X, TARGET)"
   ]
  },
  {
   "cell_type": "markdown",
   "metadata": {},
   "source": [
    "## Distribution Similarity\n",
    "It is important that features in the realized training dataset and features in the future prediction dataset have similar distributions.\n",
    "<br>\n",
    "Therefore we perform measurements of the featurewise distribution similarities between the features in the realized and future datasets.\n",
    "<br> \n",
    "The similarity is computed using `scipy.spatial.distance.jensenshannon`. If the pairwise distribution similarity is **very low** (i.e. large JS distance) between a set of features we drop the feature-pair. This is done to avoid the model (over)fitting to the feature in the training data and then performing poorly on the future data, because it is different. Two distirbutions are deemed different if they have a JS distance larger than 0.7. This measurement was chosen emperically, but no feature pairs had a distance larger than 0.4, so they were all deemed similar enough to work with."
   ]
  },
  {
   "cell_type": "code",
   "execution_count": 94,
   "metadata": {},
   "outputs": [],
   "source": [
    "# Calculation of the Jensen Shannon Distance\n",
    "def compute_probs(data, n=10): \n",
    "    h, e = np.histogram(data, n)\n",
    "    p = h/data.shape[0]\n",
    "    return e, p\n",
    "\n",
    "def support_intersection(p, q): \n",
    "    sup_int = (\n",
    "        list(\n",
    "            filter(\n",
    "                lambda x: (x[0]!=0) & (x[1]!=0), zip(p, q)\n",
    "            )\n",
    "        )\n",
    "    )\n",
    "    return sup_int\n",
    "\n",
    "def get_probs(list_of_tuples): \n",
    "    p = np.array([p[0] for p in list_of_tuples])\n",
    "    q = np.array([p[1] for p in list_of_tuples])\n",
    "    return p, q\n",
    "\n",
    "def compute_js_dist(f_rea, f_fut):\n",
    "    f_rea_len = f_rea.nunique()\n",
    "    e, p = compute_probs(f_rea, n=f_rea_len)\n",
    "    _, q = compute_probs(f_fut, n=e)\n",
    "\n",
    "    list_of_tuples = support_intersection(p, q)\n",
    "    p, q = get_probs(list_of_tuples)\n",
    "    \n",
    "    return js_dist(p, q, base=2)\n"
   ]
  },
  {
   "cell_type": "code",
   "execution_count": 95,
   "metadata": {},
   "outputs": [],
   "source": [
    "def find_and_plot_different_feature_dist(df_rea, df_fut):\n",
    "    features = df_fut.columns\n",
    "    diff_features = []\n",
    "\n",
    "    # Find features with different distributions\n",
    "    for f in tqdm(features):\n",
    "        f_rea = df_rea[f]\n",
    "        f_fut = df_fut[f]\n",
    "        js_dist = compute_js_dist(f_rea, f_fut)\n",
    "        if js_dist >= 0.4:\n",
    "            diff_features.append(f)\n",
    "\n",
    "    if len(diff_features) > 0:\n",
    "        # Plot significantly different features\n",
    "        fig, ax = plt.subplots(len(diff_features), 2, figsize=(15, int(5*len(diff_features))))\n",
    "\n",
    "        for i, f in enumerate(tqdm(diff_features)):\n",
    "            f_rea_len = df_rea[f].nunique()\n",
    "            f_fut_len = df_fut[f].nunique()\n",
    "            bins = f_rea_len if f_rea_len > f_fut_len else f_fut_len\n",
    "            f_values = df_rea[f].unique().tolist() + df_fut[f].unique().tolist()\n",
    "            brange = (min(f_values), max(f_values))\n",
    "            if len(diff_features) > 1:\n",
    "                ax[i,0].set_title(f'Realized {f}')\n",
    "                sns.histplot(df_rea[f], ax=ax[i,0], bins=bins, binrange=brange)\n",
    "                ax[i,1].set_title(f'Future {f}')\n",
    "                sns.histplot(df_fut[f], ax=ax[i,1], bins=bins, binrange=brange)\n",
    "            else:\n",
    "                ax[0].set_title(f'Realized {f}')\n",
    "                sns.histplot(df_rea[f], ax=ax[0], bins=bins, binrange=brange)\n",
    "                ax[1].set_title(f'Future {f}')\n",
    "                sns.histplot(df_fut[f], ax=ax[1], bins=bins, binrange=brange)\n",
    "\n",
    "        plt.tight_layout()\n",
    "        plt.show()\n",
    "    else:\n",
    "        print('No significantly diffrent feature distributions found')"
   ]
  },
  {
   "cell_type": "markdown",
   "metadata": {},
   "source": [
    "### Linear Model Dataset"
   ]
  },
  {
   "cell_type": "code",
   "execution_count": 96,
   "metadata": {},
   "outputs": [
    {
     "name": "stderr",
     "output_type": "stream",
     "text": [
      "100%|██████████| 582/582 [00:00<00:00, 1094.97it/s]"
     ]
    },
    {
     "name": "stdout",
     "output_type": "stream",
     "text": [
      "No significantly diffrent feature distributions found\n"
     ]
    },
    {
     "name": "stderr",
     "output_type": "stream",
     "text": [
      "\n"
     ]
    }
   ],
   "source": [
    "find_and_plot_different_feature_dist(chosen_linear_rea_X, chosen_linear_fut_X)"
   ]
  },
  {
   "cell_type": "markdown",
   "metadata": {},
   "source": [
    "### Tree Based Model Dataset"
   ]
  },
  {
   "cell_type": "code",
   "execution_count": 97,
   "metadata": {},
   "outputs": [
    {
     "name": "stderr",
     "output_type": "stream",
     "text": [
      "100%|██████████| 10/10 [00:00<00:00, 210.05it/s]"
     ]
    },
    {
     "name": "stdout",
     "output_type": "stream",
     "text": [
      "No significantly diffrent feature distributions found\n"
     ]
    },
    {
     "name": "stderr",
     "output_type": "stream",
     "text": [
      "\n"
     ]
    }
   ],
   "source": [
    "find_and_plot_different_feature_dist(chosen_tree_rea_X, chosen_tree_fut_X)"
   ]
  },
  {
   "cell_type": "markdown",
   "metadata": {},
   "source": [
    "## Saving the data\n",
    "We now save the preprocessed realized and future datasets.\n",
    "<br>\n",
    "We produce 4 datasets: \n",
    "* `linear_realized_preprocessed_data.csv`\n",
    "* `linear_future_preprocessed_data.csv`\n",
    "* `tree_realized_preprocessed_data.csv`\n",
    "* `tree_future_preprocessed_data.csv`"
   ]
  },
  {
   "cell_type": "code",
   "execution_count": 98,
   "metadata": {},
   "outputs": [],
   "source": [
    "def set_target_last(df, target):\n",
    "    df = df.copy()\n",
    "    tmp_target = df[target]\n",
    "    df.drop(target, axis=1)\n",
    "    df[target] = tmp_target\n",
    "    return df"
   ]
  },
  {
   "cell_type": "code",
   "execution_count": 99,
   "metadata": {},
   "outputs": [],
   "source": [
    "set_target_last(chosen_linear_rea_X, TARGET).to_csv(LINEAR_REALIZED_PATH, sep=',', decimal='.')\n",
    "chosen_linear_fut_X.to_csv(LINEAR_FUTURE_PATH, sep=',', decimal='.')\n",
    "set_target_last(chosen_tree_rea_X, TARGET).to_csv(TREE_REALIZED_PATH, sep=',', decimal='.')\n",
    "chosen_tree_fut_X.to_csv(TREE_FUTURE_PATH, sep=',', decimal='.')"
   ]
  },
  {
   "cell_type": "code",
   "execution_count": null,
   "metadata": {},
   "outputs": [],
   "source": []
  }
 ],
 "metadata": {
  "interpreter": {
   "hash": "31f2aee4e71d21fbe5cf8b01ff0e069b9275f58929596ceb00d14d90e3e16cd6"
  },
  "kernelspec": {
   "display_name": "Python 3.8.10 64-bit",
   "language": "python",
   "name": "python3"
  },
  "language_info": {
   "codemirror_mode": {
    "name": "ipython",
    "version": 3
   },
   "file_extension": ".py",
   "mimetype": "text/x-python",
   "name": "python",
   "nbconvert_exporter": "python",
   "pygments_lexer": "ipython3",
   "version": "3.8.12"
  },
  "orig_nbformat": 4
 },
 "nbformat": 4,
 "nbformat_minor": 2
}
